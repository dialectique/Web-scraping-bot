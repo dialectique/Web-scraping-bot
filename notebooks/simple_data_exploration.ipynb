{
 "cells": [
  {
   "cell_type": "markdown",
   "id": "66c1deca",
   "metadata": {},
   "source": [
    "#  Web-scraping-bot project - simple data exploration"
   ]
  },
  {
   "cell_type": "markdown",
   "id": "9b7b29ab",
   "metadata": {},
   "source": [
    "- Short exploration of a dataset about lifestyle and things to do in Tokyo from a specific website.\n",
    "- The website's blog articles and related data have been directly scrapped from the web site.\n",
    "- No data which could lead to this specific website will be shown in this notebook."
   ]
  },
  {
   "cell_type": "code",
   "execution_count": 6,
   "id": "091e304a",
   "metadata": {},
   "outputs": [],
   "source": [
    "# import modules\n",
    "\n",
    "import os\n",
    "import numpy as np\n",
    "import pandas as pd\n",
    "import matplotlib.pyplot as plt\n",
    "import seaborn as sns\n",
    "\n",
    "from scrappackage.scrap_blog_articles import Website_blog"
   ]
  },
  {
   "cell_type": "code",
   "execution_count": 2,
   "id": "68ffa13c",
   "metadata": {},
   "outputs": [],
   "source": [
    "# magic commands\n",
    "\n",
    "%load_ext autoreload\n",
    "%autoreload 2\n",
    "%matplotlib inline"
   ]
  },
  {
   "cell_type": "code",
   "execution_count": 3,
   "id": "f96d3148",
   "metadata": {},
   "outputs": [
    {
     "name": "stdout",
     "output_type": "stream",
     "text": [
      "Scrap articles from the website's page 1\n",
      "****************** 18 articles scrapped on this page.\n",
      "\n",
      "'all_articles.csv' is now up to date.\n"
     ]
    }
   ],
   "source": [
    "# The whole dataset have been scrapped before the creation of this notebook, a week ago.\n",
    "# Since, some articles could have been published.\n",
    "# Update the csv file which contains the dataset:\n",
    "# To avoid scrap all the website's blog articles, update\n",
    "# the all_articles.csv file with the website's blog articles from the\n",
    "# first page only. This update could be done every two week as there were\n",
    "# no more than 25 article publications per month in the past.\n",
    "\n",
    "# instantiate the Website_blog class.\n",
    "wb = Website_blog()\n",
    "\n",
    "# update the csv file:\n",
    "wb.update_csv_file_with_blog_first_page()"
   ]
  },
  {
   "cell_type": "code",
   "execution_count": 8,
   "id": "6e3ef50a",
   "metadata": {},
   "outputs": [],
   "source": [
    "# all_articles.csv relative path\n",
    "all_articles_csv_file_path = os.path.join(\"..\", \"scrappackage\", \"all_articles.csv\")\n",
    "                                                                \n",
    "df = pd.read_csv(all_articles_csv_file_path)"
   ]
  },
  {
   "cell_type": "code",
   "execution_count": 15,
   "id": "13102080",
   "metadata": {},
   "outputs": [
    {
     "data": {
      "text/plain": [
       "Index(['url', 'title', 'date', 'author', 'categories', 'tags', 'text'], dtype='object')"
      ]
     },
     "execution_count": 15,
     "metadata": {},
     "output_type": "execute_result"
    }
   ],
   "source": [
    "df.columns"
   ]
  },
  {
   "cell_type": "code",
   "execution_count": 16,
   "id": "2454565e",
   "metadata": {},
   "outputs": [
    {
     "data": {
      "text/plain": [
       "(1624, 7)"
      ]
     },
     "execution_count": 16,
     "metadata": {},
     "output_type": "execute_result"
    }
   ],
   "source": [
    "df.shape"
   ]
  },
  {
   "cell_type": "markdown",
   "id": "2fe6fdc7",
   "metadata": {},
   "source": [
    "The dataframe contains:   \n",
    "    - 1624 articles   \n",
    "    - 7 columns: url, title, date, author, categories, tags, text"
   ]
  },
  {
   "cell_type": "code",
   "execution_count": 21,
   "id": "abbe3a87",
   "metadata": {},
   "outputs": [
    {
     "data": {
      "text/plain": [
       "url           1624\n",
       "title         1624\n",
       "date          1535\n",
       "author        1535\n",
       "categories    1624\n",
       "tags          1501\n",
       "text          1624\n",
       "dtype: int64"
      ]
     },
     "execution_count": 21,
     "metadata": {},
     "output_type": "execute_result"
    }
   ],
   "source": [
    "df.count()"
   ]
  },
  {
   "cell_type": "code",
   "execution_count": 22,
   "id": "e70f2c3b",
   "metadata": {},
   "outputs": [
    {
     "data": {
      "text/plain": [
       "url           1606\n",
       "title         1605\n",
       "date          1268\n",
       "author         104\n",
       "categories     176\n",
       "tags          1385\n",
       "text          1594\n",
       "dtype: int64"
      ]
     },
     "execution_count": 22,
     "metadata": {},
     "output_type": "execute_result"
    }
   ],
   "source": [
    "df.nunique()"
   ]
  },
  {
   "cell_type": "code",
   "execution_count": 34,
   "id": "c1a84457",
   "metadata": {},
   "outputs": [],
   "source": [
    "# to be continued"
   ]
  },
  {
   "cell_type": "code",
   "execution_count": null,
   "id": "ea3a2662",
   "metadata": {},
   "outputs": [],
   "source": []
  }
 ],
 "metadata": {
  "kernelspec": {
   "display_name": "Python 3 (ipykernel)",
   "language": "python",
   "name": "python3"
  },
  "language_info": {
   "codemirror_mode": {
    "name": "ipython",
    "version": 3
   },
   "file_extension": ".py",
   "mimetype": "text/x-python",
   "name": "python",
   "nbconvert_exporter": "python",
   "pygments_lexer": "ipython3",
   "version": "3.8.12"
  },
  "toc": {
   "base_numbering": 1,
   "nav_menu": {},
   "number_sections": true,
   "sideBar": true,
   "skip_h1_title": false,
   "title_cell": "Table of Contents",
   "title_sidebar": "Contents",
   "toc_cell": false,
   "toc_position": {},
   "toc_section_display": true,
   "toc_window_display": false
  }
 },
 "nbformat": 4,
 "nbformat_minor": 5
}
