{
 "cells": [
  {
   "cell_type": "markdown",
   "id": "66c1deca",
   "metadata": {},
   "source": [
    "#  Web-scraping-bot project - data exploration"
   ]
  },
  {
   "cell_type": "markdown",
   "id": "9b7b29ab",
   "metadata": {},
   "source": [
    "- Short exploration of a dataset about lifestyle and things to do in Tokyo from a specific website.\n",
    "- The website's blog articles and related data have been directly scrapped from the web site.\n",
    "- No data which could lead to this specific website will be shown in this notebook."
   ]
  },
  {
   "cell_type": "code",
   "execution_count": 70,
   "id": "091e304a",
   "metadata": {},
   "outputs": [],
   "source": [
    "# import modules\n",
    "\n",
    "import os\n",
    "import numpy as np\n",
    "import pandas as pd\n",
    "import matplotlib.pyplot as plt\n",
    "import seaborn as sns\n",
    "\n",
    "from scrappackage.scrap_blog_articles import Website_blog"
   ]
  },
  {
   "cell_type": "code",
   "execution_count": 71,
   "id": "68ffa13c",
   "metadata": {},
   "outputs": [
    {
     "name": "stdout",
     "output_type": "stream",
     "text": [
      "The autoreload extension is already loaded. To reload it, use:\n",
      "  %reload_ext autoreload\n"
     ]
    }
   ],
   "source": [
    "# magic commands\n",
    "\n",
    "%load_ext autoreload\n",
    "%autoreload 2\n",
    "%matplotlib inline"
   ]
  },
  {
   "cell_type": "code",
   "execution_count": 72,
   "id": "f96d3148",
   "metadata": {},
   "outputs": [
    {
     "name": "stdout",
     "output_type": "stream",
     "text": [
      "Scrap articles from the website's page 1\n",
      "****************** 18 articles scrapped on this page.\n",
      "\n",
      "'all_articles.csv' is now up to date.\n"
     ]
    }
   ],
   "source": [
    "# The whole dataset have been scrapped before the creation of this notebook, a week ago.\n",
    "# Since, some articles could have been published.\n",
    "# Update the csv file which contains the dataset:\n",
    "# To avoid scrap all the website's blog articles, update\n",
    "# the all_articles.csv file with the website's blog articles from the\n",
    "# first page only. This update could be done every two week as there were\n",
    "# no more than 25 article publications per month in the past.\n",
    "\n",
    "# instantiate the Website_blog class.\n",
    "wb = Website_blog()\n",
    "\n",
    "# update the csv file:\n",
    "wb.update_csv_file_with_blog_first_page()"
   ]
  },
  {
   "cell_type": "code",
   "execution_count": 99,
   "id": "6e3ef50a",
   "metadata": {},
   "outputs": [],
   "source": [
    "# all_articles.csv relative path\n",
    "all_articles_csv_file_path = os.path.join(\"..\", \"scrappackage\", \"all_articles.csv\")\n",
    "# read all_articles.csv in a panas dataframe                                                             \n",
    "df = pd.read_csv(all_articles_csv_file_path)"
   ]
  },
  {
   "cell_type": "code",
   "execution_count": 74,
   "id": "13102080",
   "metadata": {},
   "outputs": [
    {
     "data": {
      "text/plain": [
       "Index(['url', 'title', 'date', 'author', 'categories', 'tags', 'text'], dtype='object')"
      ]
     },
     "execution_count": 74,
     "metadata": {},
     "output_type": "execute_result"
    }
   ],
   "source": [
    "df.columns"
   ]
  },
  {
   "cell_type": "code",
   "execution_count": 75,
   "id": "2454565e",
   "metadata": {},
   "outputs": [
    {
     "data": {
      "text/plain": [
       "(1609, 7)"
      ]
     },
     "execution_count": 75,
     "metadata": {},
     "output_type": "execute_result"
    }
   ],
   "source": [
    "df.shape"
   ]
  },
  {
   "cell_type": "code",
   "execution_count": 81,
   "id": "abbe3a87",
   "metadata": {},
   "outputs": [
    {
     "data": {
      "text/plain": [
       "url           1609\n",
       "title         1609\n",
       "date          1520\n",
       "author        1520\n",
       "categories    1609\n",
       "tags          1486\n",
       "text          1609\n",
       "dtype: int64"
      ]
     },
     "execution_count": 81,
     "metadata": {},
     "output_type": "execute_result"
    }
   ],
   "source": [
    "df.count()"
   ]
  },
  {
   "cell_type": "code",
   "execution_count": 66,
   "id": "e70f2c3b",
   "metadata": {},
   "outputs": [
    {
     "data": {
      "text/plain": [
       "url           1606\n",
       "title         1605\n",
       "date          1270\n",
       "author         104\n",
       "categories     176\n",
       "tags          1385\n",
       "text          1597\n",
       "dtype: int64"
      ]
     },
     "execution_count": 66,
     "metadata": {},
     "output_type": "execute_result"
    }
   ],
   "source": [
    "df.nunique()"
   ]
  },
  {
   "cell_type": "code",
   "execution_count": 85,
   "id": "31627451",
   "metadata": {},
   "outputs": [],
   "source": [
    "c_url, c_title, c_date, c_author, c_categories, c_tags, c_text = df.count()\n",
    "n_url, n_title, n_date, n_author, n_categories, n_tags, n_text = df.nunique()"
   ]
  },
  {
   "cell_type": "code",
   "execution_count": 93,
   "id": "7be35b55",
   "metadata": {},
   "outputs": [
    {
     "name": "stdout",
     "output_type": "stream",
     "text": [
      " - There are 1609 articles in total\n",
      " - 4 duplicated titles\n",
      " - 89 articles have no publication date\n",
      " - More than one articles have been published on 250 publication dates\n",
      " - There are 104 authors\n",
      " - all articles have categories\n",
      " - 123 articles don't have any tag\n",
      " - 12 duplicated texts\n"
     ]
    }
   ],
   "source": [
    "print(f\" - There are {c_url} articles in total\")\n",
    "print(f\" - {c_title - n_title} duplicated titles\")\n",
    "print(f\" - {c_url - c_date} articles have no publication date\")\n",
    "print(f\" - More than one articles have been published on {c_date - n_date} publication dates\")\n",
    "print(f\" - There are {n_author} authors\")\n",
    "print(f\" - {'all' if c_url == c_categories else c_categories} articles have categories\")\n",
    "print(f\" - {c_url - c_tags} articles don't have any tag\")\n",
    "print(f\" - {c_text - n_text} duplicated texts\")"
   ]
  },
  {
   "cell_type": "code",
   "execution_count": 183,
   "id": "dba7f2d9",
   "metadata": {},
   "outputs": [],
   "source": [
    "# authors anonymation\n",
    "# add a 'author_anon' column where each unique author name is replaced by a number (-1 if no author)\n",
    "df['author_anon'] = df['author'].astype('category').cat.codes"
   ]
  },
  {
   "cell_type": "code",
   "execution_count": 247,
   "id": "29129262",
   "metadata": {},
   "outputs": [
    {
     "data": {
      "image/png": "[encoded data removed]",
      "text/plain": [
       "<Figure size 1500x400 with 1 Axes>"
      ]
     },
     "metadata": {},
     "output_type": "display_data"
    }
   ],
   "source": [
    "plt.figure(figsize=(15, 4))\n",
    "sns.countplot(data=df, x='author_anon', order=df['author_anon'].value_counts().index)\n",
    "plt.xticks(rotation=90, fontsize=8);"
   ]
  },
  {
   "cell_type": "code",
   "execution_count": 257,
   "id": "45751184",
   "metadata": {},
   "outputs": [
    {
     "data": {
      "text/html": [
       "<div>\n",
       "<style scoped>\n",
       "    .dataframe tbody tr th:only-of-type {\n",
       "        vertical-align: middle;\n",
       "    }\n",
       "\n",
       "    .dataframe tbody tr th {\n",
       "        vertical-align: top;\n",
       "    }\n",
       "\n",
       "    .dataframe thead th {\n",
       "        text-align: right;\n",
       "    }\n",
       "</style>\n",
       "<table border=\"1\" class=\"dataframe\">\n",
       "  <thead>\n",
       "    <tr style=\"text-align: right;\">\n",
       "      <th></th>\n",
       "      <th>nb_articles</th>\n",
       "      <th>nb_author</th>\n",
       "    </tr>\n",
       "  </thead>\n",
       "  <tbody>\n",
       "    <tr>\n",
       "      <th>0</th>\n",
       "      <td>(1, 10]</td>\n",
       "      <td>40</td>\n",
       "    </tr>\n",
       "    <tr>\n",
       "      <th>1</th>\n",
       "      <td>(10, 30]</td>\n",
       "      <td>10</td>\n",
       "    </tr>\n",
       "    <tr>\n",
       "      <th>2</th>\n",
       "      <td>(30, 50]</td>\n",
       "      <td>5</td>\n",
       "    </tr>\n",
       "    <tr>\n",
       "      <th>3</th>\n",
       "      <td>(50, 100]</td>\n",
       "      <td>4</td>\n",
       "    </tr>\n",
       "    <tr>\n",
       "      <th>4</th>\n",
       "      <td>(100, 150]</td>\n",
       "      <td>1</td>\n",
       "    </tr>\n",
       "    <tr>\n",
       "      <th>5</th>\n",
       "      <td>(150, 200]</td>\n",
       "      <td>1</td>\n",
       "    </tr>\n",
       "    <tr>\n",
       "      <th>6</th>\n",
       "      <td>(200, 250]</td>\n",
       "      <td>2</td>\n",
       "    </tr>\n",
       "  </tbody>\n",
       "</table>\n",
       "</div>"
      ],
      "text/plain": [
       "  nb_articles  nb_author\n",
       "0     (1, 10]         40\n",
       "1    (10, 30]         10\n",
       "2    (30, 50]          5\n",
       "3   (50, 100]          4\n",
       "4  (100, 150]          1\n",
       "5  (150, 200]          1\n",
       "6  (200, 250]          2"
      ]
     },
     "execution_count": 257,
     "metadata": {},
     "output_type": "execute_result"
    }
   ],
   "source": [
    "# nb articles wrote per author, using bins\n",
    "df2 = df['author_anon'].value_counts().reset_index().rename(columns={'index': 'author', 'author_anon': 'nb_articles'})\n",
    "bins = [1, 10, 30, 50, 100, 150, 200, 250]\n",
    "groups = df2.groupby(['author', pd.cut(df2['nb_articles'], bins)])\n",
    "articles_per_author_df = groups.size().unstack().agg(sum).reset_index()\n",
    "articles_per_author_df.columns = ['nb_articles', 'nb_author']\n",
    "articles_per_author_df"
   ]
  },
  {
   "cell_type": "markdown",
   "id": "94a32445",
   "metadata": {},
   "source": [
    "- A minority of authors wrote the majority of the articles"
   ]
  },
  {
   "cell_type": "code",
   "execution_count": 268,
   "id": "ab23e167",
   "metadata": {},
   "outputs": [
    {
     "data": {
      "text/html": [
       "<div>\n",
       "<style scoped>\n",
       "    .dataframe tbody tr th:only-of-type {\n",
       "        vertical-align: middle;\n",
       "    }\n",
       "\n",
       "    .dataframe tbody tr th {\n",
       "        vertical-align: top;\n",
       "    }\n",
       "\n",
       "    .dataframe thead th {\n",
       "        text-align: right;\n",
       "    }\n",
       "</style>\n",
       "<table border=\"1\" class=\"dataframe\">\n",
       "  <thead>\n",
       "    <tr style=\"text-align: right;\">\n",
       "      <th></th>\n",
       "      <th>author</th>\n",
       "      <th>nb_articles</th>\n",
       "      <th>perc</th>\n",
       "    </tr>\n",
       "  </thead>\n",
       "  <tbody>\n",
       "    <tr>\n",
       "      <th>0</th>\n",
       "      <td>1</td>\n",
       "      <td>216</td>\n",
       "      <td>13.42</td>\n",
       "    </tr>\n",
       "    <tr>\n",
       "      <th>1</th>\n",
       "      <td>34</td>\n",
       "      <td>204</td>\n",
       "      <td>12.68</td>\n",
       "    </tr>\n",
       "    <tr>\n",
       "      <th>2</th>\n",
       "      <td>58</td>\n",
       "      <td>177</td>\n",
       "      <td>11.00</td>\n",
       "    </tr>\n",
       "    <tr>\n",
       "      <th>3</th>\n",
       "      <td>10</td>\n",
       "      <td>147</td>\n",
       "      <td>9.14</td>\n",
       "    </tr>\n",
       "    <tr>\n",
       "      <th>4</th>\n",
       "      <td>89</td>\n",
       "      <td>95</td>\n",
       "      <td>5.90</td>\n",
       "    </tr>\n",
       "    <tr>\n",
       "      <th>...</th>\n",
       "      <td>...</td>\n",
       "      <td>...</td>\n",
       "      <td>...</td>\n",
       "    </tr>\n",
       "    <tr>\n",
       "      <th>100</th>\n",
       "      <td>27</td>\n",
       "      <td>1</td>\n",
       "      <td>0.06</td>\n",
       "    </tr>\n",
       "    <tr>\n",
       "      <th>101</th>\n",
       "      <td>103</td>\n",
       "      <td>1</td>\n",
       "      <td>0.06</td>\n",
       "    </tr>\n",
       "    <tr>\n",
       "      <th>102</th>\n",
       "      <td>21</td>\n",
       "      <td>1</td>\n",
       "      <td>0.06</td>\n",
       "    </tr>\n",
       "    <tr>\n",
       "      <th>103</th>\n",
       "      <td>102</td>\n",
       "      <td>1</td>\n",
       "      <td>0.06</td>\n",
       "    </tr>\n",
       "    <tr>\n",
       "      <th>104</th>\n",
       "      <td>88</td>\n",
       "      <td>1</td>\n",
       "      <td>0.06</td>\n",
       "    </tr>\n",
       "  </tbody>\n",
       "</table>\n",
       "<p>105 rows × 3 columns</p>\n",
       "</div>"
      ],
      "text/plain": [
       "     author  nb_articles   perc\n",
       "0         1          216  13.42\n",
       "1        34          204  12.68\n",
       "2        58          177  11.00\n",
       "3        10          147   9.14\n",
       "4        89           95   5.90\n",
       "..      ...          ...    ...\n",
       "100      27            1   0.06\n",
       "101     103            1   0.06\n",
       "102      21            1   0.06\n",
       "103     102            1   0.06\n",
       "104      88            1   0.06\n",
       "\n",
       "[105 rows x 3 columns]"
      ]
     },
     "execution_count": 268,
     "metadata": {},
     "output_type": "execute_result"
    }
   ],
   "source": [
    "df2['perc'] = round((df2['nb_articles']/df2['nb_articles'].sum())*100, 2)\n",
    "df2"
   ]
  },
  {
   "cell_type": "code",
   "execution_count": 274,
   "id": "35db40e1",
   "metadata": {},
   "outputs": [
    {
     "data": {
      "text/plain": [
       "nb_articles    839.00\n",
       "perc            52.14\n",
       "dtype: float64"
      ]
     },
     "execution_count": 274,
     "metadata": {},
     "output_type": "execute_result"
    }
   ],
   "source": [
    "# nb of articles written by top 5 authors\n",
    "df2.nlargest(5, \"perc\", keep='first')[['nb_articles', 'perc']].sum()"
   ]
  },
  {
   "cell_type": "markdown",
   "id": "c1ec2fc6",
   "metadata": {},
   "source": [
    "The top five authors wrote 839 over 1609 articles, which represent more than 52% of the total of the articles."
   ]
  },
  {
   "cell_type": "code",
   "execution_count": 275,
   "id": "3e2a50d6",
   "metadata": {},
   "outputs": [],
   "source": [
    "# to be continued"
   ]
  },
  {
   "cell_type": "code",
   "execution_count": null,
   "id": "ccaef188",
   "metadata": {},
   "outputs": [],
   "source": []
  }
 ],
 "metadata": {
  "kernelspec": {
   "display_name": "Python 3 (ipykernel)",
   "language": "python",
   "name": "python3"
  },
  "language_info": {
   "codemirror_mode": {
    "name": "ipython",
    "version": 3
   },
   "file_extension": ".py",
   "mimetype": "text/x-python",
   "name": "python",
   "nbconvert_exporter": "python",
   "pygments_lexer": "ipython3",
   "version": "3.8.12"
  },
  "toc": {
   "base_numbering": 1,
   "nav_menu": {},
   "number_sections": true,
   "sideBar": true,
   "skip_h1_title": false,
   "title_cell": "Table of Contents",
   "title_sidebar": "Contents",
   "toc_cell": false,
   "toc_position": {},
   "toc_section_display": true,
   "toc_window_display": false
  }
 },
 "nbformat": 4,
 "nbformat_minor": 5
}
