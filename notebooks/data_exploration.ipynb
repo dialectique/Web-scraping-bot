{
 "cells": [
  {
   "cell_type": "markdown",
   "id": "66c1deca",
   "metadata": {},
   "source": [
    "#  Web-scraping-bot project - data exploration and analysis"
   ]
  },
  {
   "cell_type": "markdown",
   "id": "9b7b29ab",
   "metadata": {},
   "source": [
    "- Data exploration and analysis of a dataset about lifestyle and things to do in Tokyo from a specific website's blog.\n",
    "- The website's blog articles and related data have been directly scrapped from the web site.\n",
    "- No data which could lead to this specific website will be shown in this notebook."
   ]
  },
  {
   "cell_type": "code",
   "execution_count": 1,
   "id": "091e304a",
   "metadata": {},
   "outputs": [],
   "source": [
    "# import modules\n",
    "\n",
    "import os\n",
    "import numpy as np\n",
    "import pandas as pd\n",
    "import matplotlib.pyplot as plt\n",
    "import seaborn as sns\n",
    "\n",
    "from scrappackage.scrap_blog_articles import Website_blog"
   ]
  },
  {
   "cell_type": "code",
   "execution_count": 2,
   "id": "68ffa13c",
   "metadata": {},
   "outputs": [],
   "source": [
    "# magic commands\n",
    "\n",
    "%load_ext autoreload\n",
    "%autoreload 2\n",
    "%matplotlib inline"
   ]
  },
  {
   "cell_type": "code",
   "execution_count": null,
   "id": "f96d3148",
   "metadata": {},
   "outputs": [],
   "source": [
    "# The whole dataset have been scrapped before the creation of this notebook, a week ago.\n",
    "# Since, some articles could have been published.\n",
    "# Update the csv file which contains the dataset:\n",
    "# To avoid scrap all the website's blog articles, update\n",
    "# the all_articles.csv file with the website's blog articles from the\n",
    "# first page only. This update could be done every two week as there were\n",
    "# no more than 25 article publications per month in the past.\n",
    "\n",
    "# instantiate the Website_blog class.\n",
    "wb = Website_blog()\n",
    "\n",
    "# update the csv file:\n",
    "wb.update_csv_file_with_blog_first_page()"
   ]
  },
  {
   "cell_type": "code",
   "execution_count": 265,
   "id": "6e3ef50a",
   "metadata": {},
   "outputs": [],
   "source": [
    "# all_articles.csv relative path\n",
    "all_articles_csv_file_path = os.path.join(\"..\", \"scrappackage\", \"all_articles.csv\")\n",
    "# read all_articles.csv in a panas dataframe                                                             \n",
    "df = pd.read_csv(all_articles_csv_file_path)"
   ]
  },
  {
   "cell_type": "markdown",
   "id": "b0c826fb",
   "metadata": {},
   "source": [
    "# 1 - Basic exploration - cardinalities"
   ]
  },
  {
   "cell_type": "code",
   "execution_count": 5,
   "id": "13102080",
   "metadata": {},
   "outputs": [
    {
     "data": {
      "text/plain": [
       "Index(['url', 'title', 'date', 'author', 'categories', 'tags', 'text'], dtype='object')"
      ]
     },
     "execution_count": 5,
     "metadata": {},
     "output_type": "execute_result"
    }
   ],
   "source": [
    "df.columns"
   ]
  },
  {
   "cell_type": "code",
   "execution_count": 6,
   "id": "2454565e",
   "metadata": {},
   "outputs": [
    {
     "data": {
      "text/plain": [
       "(1609, 7)"
      ]
     },
     "execution_count": 6,
     "metadata": {},
     "output_type": "execute_result"
    }
   ],
   "source": [
    "df.shape"
   ]
  },
  {
   "cell_type": "code",
   "execution_count": 7,
   "id": "abbe3a87",
   "metadata": {},
   "outputs": [
    {
     "data": {
      "text/plain": [
       "url           1609\n",
       "title         1609\n",
       "date          1520\n",
       "author        1520\n",
       "categories    1609\n",
       "tags          1486\n",
       "text          1609\n",
       "dtype: int64"
      ]
     },
     "execution_count": 7,
     "metadata": {},
     "output_type": "execute_result"
    }
   ],
   "source": [
    "df.count()"
   ]
  },
  {
   "cell_type": "code",
   "execution_count": 8,
   "id": "e70f2c3b",
   "metadata": {},
   "outputs": [
    {
     "data": {
      "text/plain": [
       "url           1606\n",
       "title         1605\n",
       "date          1270\n",
       "author         104\n",
       "categories     176\n",
       "tags          1385\n",
       "text          1597\n",
       "dtype: int64"
      ]
     },
     "execution_count": 8,
     "metadata": {},
     "output_type": "execute_result"
    }
   ],
   "source": [
    "df.nunique()"
   ]
  },
  {
   "cell_type": "code",
   "execution_count": 9,
   "id": "31627451",
   "metadata": {},
   "outputs": [],
   "source": [
    "c_url, c_title, c_date, c_author, c_categories, c_tags, c_text = df.count()\n",
    "n_url, n_title, n_date, n_author, n_categories, n_tags, n_text = df.nunique()"
   ]
  },
  {
   "cell_type": "code",
   "execution_count": 10,
   "id": "7be35b55",
   "metadata": {},
   "outputs": [
    {
     "name": "stdout",
     "output_type": "stream",
     "text": [
      " - There are 1606 unique articles in total\n",
      " - 4 duplicated titles\n",
      " - 89 articles have no publication date\n",
      " - More than one articles have been published on 250 publication dates\n",
      " - There are 104 authors\n",
      " - All articles have categories\n",
      " - 123 articles don't have any tag\n",
      " - 12 duplicated texts\n"
     ]
    }
   ],
   "source": [
    "print(f\" - There are {n_url} unique articles in total\")\n",
    "print(f\" - {c_title - n_title} duplicated titles\")\n",
    "print(f\" - {c_url - c_date} articles have no publication date\")\n",
    "print(f\" - More than one articles have been published on {c_date - n_date} publication dates\")\n",
    "print(f\" - There are {n_author} authors\")\n",
    "print(f\" - {'All' if c_url == c_categories else c_categories} articles have categories\")\n",
    "print(f\" - {c_url - c_tags} articles don't have any tag\")\n",
    "print(f\" - {c_text - n_text} duplicated texts\")"
   ]
  },
  {
   "cell_type": "code",
   "execution_count": 11,
   "id": "dba7f2d9",
   "metadata": {},
   "outputs": [],
   "source": [
    "# authors anonymation\n",
    "# add a 'author_anon' column where each unique author name is replaced by a number (-1 if no author)\n",
    "df['author_anon'] = df['author'].astype('category').cat.codes"
   ]
  },
  {
   "cell_type": "code",
   "execution_count": 12,
   "id": "29129262",
   "metadata": {},
   "outputs": [
    {
     "data": {
      "image/png": "[encoded data removed]",
      "text/plain": [
       "<Figure size 1500x400 with 1 Axes>"
      ]
     },
     "metadata": {},
     "output_type": "display_data"
    }
   ],
   "source": [
    "plt.figure(figsize=(15, 4))\n",
    "sns.countplot(data=df, x='author_anon', order=df['author_anon'].value_counts().index)\n",
    "plt.xticks(rotation=90, fontsize=8);"
   ]
  },
  {
   "cell_type": "code",
   "execution_count": 13,
   "id": "45751184",
   "metadata": {},
   "outputs": [
    {
     "data": {
      "text/html": [
       "<div>\n",
       "<style scoped>\n",
       "    .dataframe tbody tr th:only-of-type {\n",
       "        vertical-align: middle;\n",
       "    }\n",
       "\n",
       "    .dataframe tbody tr th {\n",
       "        vertical-align: top;\n",
       "    }\n",
       "\n",
       "    .dataframe thead th {\n",
       "        text-align: right;\n",
       "    }\n",
       "</style>\n",
       "<table border=\"1\" class=\"dataframe\">\n",
       "  <thead>\n",
       "    <tr style=\"text-align: right;\">\n",
       "      <th></th>\n",
       "      <th>nb_articles</th>\n",
       "      <th>nb_author</th>\n",
       "    </tr>\n",
       "  </thead>\n",
       "  <tbody>\n",
       "    <tr>\n",
       "      <th>0</th>\n",
       "      <td>(1, 10]</td>\n",
       "      <td>40</td>\n",
       "    </tr>\n",
       "    <tr>\n",
       "      <th>1</th>\n",
       "      <td>(10, 30]</td>\n",
       "      <td>10</td>\n",
       "    </tr>\n",
       "    <tr>\n",
       "      <th>2</th>\n",
       "      <td>(30, 50]</td>\n",
       "      <td>5</td>\n",
       "    </tr>\n",
       "    <tr>\n",
       "      <th>3</th>\n",
       "      <td>(50, 100]</td>\n",
       "      <td>4</td>\n",
       "    </tr>\n",
       "    <tr>\n",
       "      <th>4</th>\n",
       "      <td>(100, 150]</td>\n",
       "      <td>1</td>\n",
       "    </tr>\n",
       "    <tr>\n",
       "      <th>5</th>\n",
       "      <td>(150, 200]</td>\n",
       "      <td>1</td>\n",
       "    </tr>\n",
       "    <tr>\n",
       "      <th>6</th>\n",
       "      <td>(200, 250]</td>\n",
       "      <td>2</td>\n",
       "    </tr>\n",
       "  </tbody>\n",
       "</table>\n",
       "</div>"
      ],
      "text/plain": [
       "  nb_articles  nb_author\n",
       "0     (1, 10]         40\n",
       "1    (10, 30]         10\n",
       "2    (30, 50]          5\n",
       "3   (50, 100]          4\n",
       "4  (100, 150]          1\n",
       "5  (150, 200]          1\n",
       "6  (200, 250]          2"
      ]
     },
     "execution_count": 13,
     "metadata": {},
     "output_type": "execute_result"
    }
   ],
   "source": [
    "# nb articles wrote per author, using bins\n",
    "df2 = df['author_anon'].value_counts().reset_index().rename(columns={'index': 'author', 'author_anon': 'nb_articles'})\n",
    "bins = [1, 10, 30, 50, 100, 150, 200, 250]\n",
    "groups = df2.groupby(['author', pd.cut(df2['nb_articles'], bins)])\n",
    "articles_per_author_df = groups.size().unstack().agg(sum).reset_index()\n",
    "articles_per_author_df.columns = ['nb_articles', 'nb_author']\n",
    "articles_per_author_df"
   ]
  },
  {
   "cell_type": "markdown",
   "id": "94a32445",
   "metadata": {},
   "source": [
    "- A minority of authors wrote the majority of the articles"
   ]
  },
  {
   "cell_type": "code",
   "execution_count": 14,
   "id": "ab23e167",
   "metadata": {},
   "outputs": [
    {
     "data": {
      "text/html": [
       "<div>\n",
       "<style scoped>\n",
       "    .dataframe tbody tr th:only-of-type {\n",
       "        vertical-align: middle;\n",
       "    }\n",
       "\n",
       "    .dataframe tbody tr th {\n",
       "        vertical-align: top;\n",
       "    }\n",
       "\n",
       "    .dataframe thead th {\n",
       "        text-align: right;\n",
       "    }\n",
       "</style>\n",
       "<table border=\"1\" class=\"dataframe\">\n",
       "  <thead>\n",
       "    <tr style=\"text-align: right;\">\n",
       "      <th></th>\n",
       "      <th>author</th>\n",
       "      <th>nb_articles</th>\n",
       "      <th>perc</th>\n",
       "    </tr>\n",
       "  </thead>\n",
       "  <tbody>\n",
       "    <tr>\n",
       "      <th>0</th>\n",
       "      <td>1</td>\n",
       "      <td>216</td>\n",
       "      <td>13.42</td>\n",
       "    </tr>\n",
       "    <tr>\n",
       "      <th>1</th>\n",
       "      <td>34</td>\n",
       "      <td>204</td>\n",
       "      <td>12.68</td>\n",
       "    </tr>\n",
       "    <tr>\n",
       "      <th>2</th>\n",
       "      <td>58</td>\n",
       "      <td>177</td>\n",
       "      <td>11.00</td>\n",
       "    </tr>\n",
       "    <tr>\n",
       "      <th>3</th>\n",
       "      <td>10</td>\n",
       "      <td>147</td>\n",
       "      <td>9.14</td>\n",
       "    </tr>\n",
       "    <tr>\n",
       "      <th>4</th>\n",
       "      <td>89</td>\n",
       "      <td>95</td>\n",
       "      <td>5.90</td>\n",
       "    </tr>\n",
       "    <tr>\n",
       "      <th>...</th>\n",
       "      <td>...</td>\n",
       "      <td>...</td>\n",
       "      <td>...</td>\n",
       "    </tr>\n",
       "    <tr>\n",
       "      <th>100</th>\n",
       "      <td>27</td>\n",
       "      <td>1</td>\n",
       "      <td>0.06</td>\n",
       "    </tr>\n",
       "    <tr>\n",
       "      <th>101</th>\n",
       "      <td>103</td>\n",
       "      <td>1</td>\n",
       "      <td>0.06</td>\n",
       "    </tr>\n",
       "    <tr>\n",
       "      <th>102</th>\n",
       "      <td>21</td>\n",
       "      <td>1</td>\n",
       "      <td>0.06</td>\n",
       "    </tr>\n",
       "    <tr>\n",
       "      <th>103</th>\n",
       "      <td>102</td>\n",
       "      <td>1</td>\n",
       "      <td>0.06</td>\n",
       "    </tr>\n",
       "    <tr>\n",
       "      <th>104</th>\n",
       "      <td>88</td>\n",
       "      <td>1</td>\n",
       "      <td>0.06</td>\n",
       "    </tr>\n",
       "  </tbody>\n",
       "</table>\n",
       "<p>105 rows × 3 columns</p>\n",
       "</div>"
      ],
      "text/plain": [
       "     author  nb_articles   perc\n",
       "0         1          216  13.42\n",
       "1        34          204  12.68\n",
       "2        58          177  11.00\n",
       "3        10          147   9.14\n",
       "4        89           95   5.90\n",
       "..      ...          ...    ...\n",
       "100      27            1   0.06\n",
       "101     103            1   0.06\n",
       "102      21            1   0.06\n",
       "103     102            1   0.06\n",
       "104      88            1   0.06\n",
       "\n",
       "[105 rows x 3 columns]"
      ]
     },
     "execution_count": 14,
     "metadata": {},
     "output_type": "execute_result"
    }
   ],
   "source": [
    "df2['perc'] = round((df2['nb_articles']/df2['nb_articles'].sum())*100, 2)\n",
    "df2"
   ]
  },
  {
   "cell_type": "code",
   "execution_count": 15,
   "id": "35db40e1",
   "metadata": {},
   "outputs": [
    {
     "name": "stdout",
     "output_type": "stream",
     "text": [
      "- The top five authors wrote 839 over 1606 articles, which represent more than 52% of the total of the articles.\n"
     ]
    }
   ],
   "source": [
    "# nb of articles written by top 5 authors\n",
    "top5 = df2.nlargest(5, \"perc\", keep='first')[['nb_articles', 'perc']].sum()\n",
    "\n",
    "print(f\"- The top five authors wrote {int(top5['nb_articles'])} over {n_url} articles, which represent more than {int(top5['perc'])}% of the total of the articles.\")"
   ]
  },
  {
   "cell_type": "markdown",
   "id": "634a2ea8",
   "metadata": {},
   "source": [
    "# 2 - Articles' categories and tags"
   ]
  },
  {
   "cell_type": "code",
   "execution_count": 16,
   "id": "4b45ccfd",
   "metadata": {},
   "outputs": [
    {
     "data": {
      "text/plain": [
       "0    Outdoors and Nature, Things to do\n",
       "1                         Things to do\n",
       "2                             Shopping\n",
       "3                  Business, Financial\n",
       "4       Japanese Culture And Tradition\n",
       "Name: categories, dtype: object"
      ]
     },
     "execution_count": 16,
     "metadata": {},
     "output_type": "execute_result"
    }
   ],
   "source": [
    "df.categories.head()"
   ]
  },
  {
   "cell_type": "code",
   "execution_count": 17,
   "id": "c6c9955a",
   "metadata": {},
   "outputs": [
    {
     "data": {
      "text/plain": [
       "0          Festivals, Flowers, Nature, Outdoors, Parks\n",
       "1    Cars, Cheap tours, Costumes, Fun, Tourists, We...\n",
       "2                             Fashion, Online shopping\n",
       "3                                    Business, Finance\n",
       "4                           Couples, Featured, Shrines\n",
       "Name: tags, dtype: object"
      ]
     },
     "execution_count": 17,
     "metadata": {},
     "output_type": "execute_result"
    }
   ],
   "source": [
    "df.tags.head()"
   ]
  },
  {
   "cell_type": "code",
   "execution_count": 18,
   "id": "c7a42968",
   "metadata": {},
   "outputs": [
    {
     "data": {
      "text/plain": [
       "0    [Outdoors and Nature, Things to do]\n",
       "1                         [Things to do]\n",
       "2                             [Shopping]\n",
       "3                  [Business, Financial]\n",
       "4       [Japanese Culture And Tradition]\n",
       "Name: list_categories, dtype: object"
      ]
     },
     "execution_count": 18,
     "metadata": {},
     "output_type": "execute_result"
    }
   ],
   "source": [
    "# convert categories into lists of strings\n",
    "df['categories'] = df['categories'].fillna(\"\")\n",
    "df['list_categories'] = df['categories'].apply(lambda x: x.split(', '))\n",
    "df['list_categories'].head()"
   ]
  },
  {
   "cell_type": "code",
   "execution_count": 19,
   "id": "387c67b3",
   "metadata": {},
   "outputs": [
    {
     "data": {
      "text/plain": [
       "0        [Festivals, Flowers, Nature, Outdoors, Parks]\n",
       "1    [Cars, Cheap tours, Costumes, Fun, Tourists, W...\n",
       "2                           [Fashion, Online shopping]\n",
       "3                                  [Business, Finance]\n",
       "4                         [Couples, Featured, Shrines]\n",
       "Name: list_tags, dtype: object"
      ]
     },
     "execution_count": 19,
     "metadata": {},
     "output_type": "execute_result"
    }
   ],
   "source": [
    "# convert tags into lists of strings\n",
    "df['tags'] = df['tags'].fillna(\"\")\n",
    "df['list_tags'] = df['tags'].apply(lambda x: x.split(', '))\n",
    "df['list_tags'].head()"
   ]
  },
  {
   "cell_type": "code",
   "execution_count": 20,
   "id": "afb22a6a",
   "metadata": {},
   "outputs": [
    {
     "data": {
      "text/html": [
       "<div>\n",
       "<style scoped>\n",
       "    .dataframe tbody tr th:only-of-type {\n",
       "        vertical-align: middle;\n",
       "    }\n",
       "\n",
       "    .dataframe tbody tr th {\n",
       "        vertical-align: top;\n",
       "    }\n",
       "\n",
       "    .dataframe thead th {\n",
       "        text-align: right;\n",
       "    }\n",
       "</style>\n",
       "<table border=\"1\" class=\"dataframe\">\n",
       "  <thead>\n",
       "    <tr style=\"text-align: right;\">\n",
       "      <th></th>\n",
       "      <th>Anime And Gaming</th>\n",
       "      <th>Art</th>\n",
       "      <th>Business</th>\n",
       "      <th>Drinking</th>\n",
       "      <th>Eating &amp; Drinking</th>\n",
       "      <th>Editorial</th>\n",
       "      <th>Education</th>\n",
       "      <th>Events</th>\n",
       "      <th>Family</th>\n",
       "      <th>Fashion</th>\n",
       "      <th>...</th>\n",
       "      <th>Shows and Theatre</th>\n",
       "      <th>Sightseeing</th>\n",
       "      <th>Snow Sports</th>\n",
       "      <th>Sporting Activities</th>\n",
       "      <th>Sushi</th>\n",
       "      <th>Sweets</th>\n",
       "      <th>Themeparks and Zoos</th>\n",
       "      <th>Things to do</th>\n",
       "      <th>Tokyo Cafés</th>\n",
       "      <th>Transport</th>\n",
       "    </tr>\n",
       "  </thead>\n",
       "  <tbody>\n",
       "    <tr>\n",
       "      <th>0</th>\n",
       "      <td>0</td>\n",
       "      <td>0</td>\n",
       "      <td>0</td>\n",
       "      <td>0</td>\n",
       "      <td>0</td>\n",
       "      <td>0</td>\n",
       "      <td>0</td>\n",
       "      <td>0</td>\n",
       "      <td>0</td>\n",
       "      <td>0</td>\n",
       "      <td>...</td>\n",
       "      <td>0</td>\n",
       "      <td>0</td>\n",
       "      <td>0</td>\n",
       "      <td>0</td>\n",
       "      <td>0</td>\n",
       "      <td>0</td>\n",
       "      <td>0</td>\n",
       "      <td>1</td>\n",
       "      <td>0</td>\n",
       "      <td>0</td>\n",
       "    </tr>\n",
       "    <tr>\n",
       "      <th>1</th>\n",
       "      <td>0</td>\n",
       "      <td>0</td>\n",
       "      <td>0</td>\n",
       "      <td>0</td>\n",
       "      <td>0</td>\n",
       "      <td>0</td>\n",
       "      <td>0</td>\n",
       "      <td>0</td>\n",
       "      <td>0</td>\n",
       "      <td>0</td>\n",
       "      <td>...</td>\n",
       "      <td>0</td>\n",
       "      <td>0</td>\n",
       "      <td>0</td>\n",
       "      <td>0</td>\n",
       "      <td>0</td>\n",
       "      <td>0</td>\n",
       "      <td>0</td>\n",
       "      <td>1</td>\n",
       "      <td>0</td>\n",
       "      <td>0</td>\n",
       "    </tr>\n",
       "    <tr>\n",
       "      <th>2</th>\n",
       "      <td>0</td>\n",
       "      <td>0</td>\n",
       "      <td>0</td>\n",
       "      <td>0</td>\n",
       "      <td>0</td>\n",
       "      <td>0</td>\n",
       "      <td>0</td>\n",
       "      <td>0</td>\n",
       "      <td>0</td>\n",
       "      <td>0</td>\n",
       "      <td>...</td>\n",
       "      <td>0</td>\n",
       "      <td>0</td>\n",
       "      <td>0</td>\n",
       "      <td>0</td>\n",
       "      <td>0</td>\n",
       "      <td>0</td>\n",
       "      <td>0</td>\n",
       "      <td>0</td>\n",
       "      <td>0</td>\n",
       "      <td>0</td>\n",
       "    </tr>\n",
       "    <tr>\n",
       "      <th>3</th>\n",
       "      <td>0</td>\n",
       "      <td>0</td>\n",
       "      <td>1</td>\n",
       "      <td>0</td>\n",
       "      <td>0</td>\n",
       "      <td>0</td>\n",
       "      <td>0</td>\n",
       "      <td>0</td>\n",
       "      <td>0</td>\n",
       "      <td>0</td>\n",
       "      <td>...</td>\n",
       "      <td>0</td>\n",
       "      <td>0</td>\n",
       "      <td>0</td>\n",
       "      <td>0</td>\n",
       "      <td>0</td>\n",
       "      <td>0</td>\n",
       "      <td>0</td>\n",
       "      <td>0</td>\n",
       "      <td>0</td>\n",
       "      <td>0</td>\n",
       "    </tr>\n",
       "    <tr>\n",
       "      <th>4</th>\n",
       "      <td>0</td>\n",
       "      <td>0</td>\n",
       "      <td>0</td>\n",
       "      <td>0</td>\n",
       "      <td>0</td>\n",
       "      <td>0</td>\n",
       "      <td>0</td>\n",
       "      <td>0</td>\n",
       "      <td>0</td>\n",
       "      <td>0</td>\n",
       "      <td>...</td>\n",
       "      <td>0</td>\n",
       "      <td>0</td>\n",
       "      <td>0</td>\n",
       "      <td>0</td>\n",
       "      <td>0</td>\n",
       "      <td>0</td>\n",
       "      <td>0</td>\n",
       "      <td>0</td>\n",
       "      <td>0</td>\n",
       "      <td>0</td>\n",
       "    </tr>\n",
       "  </tbody>\n",
       "</table>\n",
       "<p>5 rows × 37 columns</p>\n",
       "</div>"
      ],
      "text/plain": [
       "   Anime And Gaming  Art  Business  Drinking  Eating & Drinking  Editorial  \\\n",
       "0                 0    0         0         0                  0          0   \n",
       "1                 0    0         0         0                  0          0   \n",
       "2                 0    0         0         0                  0          0   \n",
       "3                 0    0         1         0                  0          0   \n",
       "4                 0    0         0         0                  0          0   \n",
       "\n",
       "   Education  Events  Family  Fashion  ...  Shows and Theatre  Sightseeing  \\\n",
       "0          0       0       0        0  ...                  0            0   \n",
       "1          0       0       0        0  ...                  0            0   \n",
       "2          0       0       0        0  ...                  0            0   \n",
       "3          0       0       0        0  ...                  0            0   \n",
       "4          0       0       0        0  ...                  0            0   \n",
       "\n",
       "   Snow Sports  Sporting Activities  Sushi  Sweets  Themeparks and Zoos  \\\n",
       "0            0                    0      0       0                    0   \n",
       "1            0                    0      0       0                    0   \n",
       "2            0                    0      0       0                    0   \n",
       "3            0                    0      0       0                    0   \n",
       "4            0                    0      0       0                    0   \n",
       "\n",
       "   Things to do  Tokyo Cafés  Transport  \n",
       "0             1            0          0  \n",
       "1             1            0          0  \n",
       "2             0            0          0  \n",
       "3             0            0          0  \n",
       "4             0            0          0  \n",
       "\n",
       "[5 rows x 37 columns]"
      ]
     },
     "execution_count": 20,
     "metadata": {},
     "output_type": "execute_result"
    }
   ],
   "source": [
    "# turn categories into a matrix-like representation\n",
    "df_categories = pd.get_dummies(df['list_categories'].apply(pd.Series).stack()).groupby(level=0).sum()\n",
    "df_categories.head()"
   ]
  },
  {
   "cell_type": "code",
   "execution_count": 21,
   "id": "0758d697",
   "metadata": {},
   "outputs": [
    {
     "data": {
      "text/html": [
       "<div>\n",
       "<style scoped>\n",
       "    .dataframe tbody tr th:only-of-type {\n",
       "        vertical-align: middle;\n",
       "    }\n",
       "\n",
       "    .dataframe tbody tr th {\n",
       "        vertical-align: top;\n",
       "    }\n",
       "\n",
       "    .dataframe thead th {\n",
       "        text-align: right;\n",
       "    }\n",
       "</style>\n",
       "<table border=\"1\" class=\"dataframe\">\n",
       "  <thead>\n",
       "    <tr style=\"text-align: right;\">\n",
       "      <th></th>\n",
       "      <th></th>\n",
       "      <th>100 yen shop</th>\n",
       "      <th>47 Ronin</th>\n",
       "      <th>7-Eleven</th>\n",
       "      <th>ATM</th>\n",
       "      <th>Accessories</th>\n",
       "      <th>Accommodation</th>\n",
       "      <th>Africa</th>\n",
       "      <th>Afternoon Tea</th>\n",
       "      <th>Airbnb</th>\n",
       "      <th>...</th>\n",
       "      <th>Yabusame</th>\n",
       "      <th>Yakitori</th>\n",
       "      <th>Yamanashi</th>\n",
       "      <th>Yamanote</th>\n",
       "      <th>Yatai</th>\n",
       "      <th>Yen</th>\n",
       "      <th>Yokocho</th>\n",
       "      <th>Yosakoi</th>\n",
       "      <th>Yukata</th>\n",
       "      <th>Zoo</th>\n",
       "    </tr>\n",
       "  </thead>\n",
       "  <tbody>\n",
       "    <tr>\n",
       "      <th>0</th>\n",
       "      <td>0</td>\n",
       "      <td>0</td>\n",
       "      <td>0</td>\n",
       "      <td>0</td>\n",
       "      <td>0</td>\n",
       "      <td>0</td>\n",
       "      <td>0</td>\n",
       "      <td>0</td>\n",
       "      <td>0</td>\n",
       "      <td>0</td>\n",
       "      <td>...</td>\n",
       "      <td>0</td>\n",
       "      <td>0</td>\n",
       "      <td>0</td>\n",
       "      <td>0</td>\n",
       "      <td>0</td>\n",
       "      <td>0</td>\n",
       "      <td>0</td>\n",
       "      <td>0</td>\n",
       "      <td>0</td>\n",
       "      <td>0</td>\n",
       "    </tr>\n",
       "    <tr>\n",
       "      <th>1</th>\n",
       "      <td>0</td>\n",
       "      <td>0</td>\n",
       "      <td>0</td>\n",
       "      <td>0</td>\n",
       "      <td>0</td>\n",
       "      <td>0</td>\n",
       "      <td>0</td>\n",
       "      <td>0</td>\n",
       "      <td>0</td>\n",
       "      <td>0</td>\n",
       "      <td>...</td>\n",
       "      <td>0</td>\n",
       "      <td>0</td>\n",
       "      <td>0</td>\n",
       "      <td>0</td>\n",
       "      <td>0</td>\n",
       "      <td>0</td>\n",
       "      <td>0</td>\n",
       "      <td>0</td>\n",
       "      <td>0</td>\n",
       "      <td>0</td>\n",
       "    </tr>\n",
       "    <tr>\n",
       "      <th>2</th>\n",
       "      <td>0</td>\n",
       "      <td>0</td>\n",
       "      <td>0</td>\n",
       "      <td>0</td>\n",
       "      <td>0</td>\n",
       "      <td>0</td>\n",
       "      <td>0</td>\n",
       "      <td>0</td>\n",
       "      <td>0</td>\n",
       "      <td>0</td>\n",
       "      <td>...</td>\n",
       "      <td>0</td>\n",
       "      <td>0</td>\n",
       "      <td>0</td>\n",
       "      <td>0</td>\n",
       "      <td>0</td>\n",
       "      <td>0</td>\n",
       "      <td>0</td>\n",
       "      <td>0</td>\n",
       "      <td>0</td>\n",
       "      <td>0</td>\n",
       "    </tr>\n",
       "    <tr>\n",
       "      <th>3</th>\n",
       "      <td>0</td>\n",
       "      <td>0</td>\n",
       "      <td>0</td>\n",
       "      <td>0</td>\n",
       "      <td>0</td>\n",
       "      <td>0</td>\n",
       "      <td>0</td>\n",
       "      <td>0</td>\n",
       "      <td>0</td>\n",
       "      <td>0</td>\n",
       "      <td>...</td>\n",
       "      <td>0</td>\n",
       "      <td>0</td>\n",
       "      <td>0</td>\n",
       "      <td>0</td>\n",
       "      <td>0</td>\n",
       "      <td>0</td>\n",
       "      <td>0</td>\n",
       "      <td>0</td>\n",
       "      <td>0</td>\n",
       "      <td>0</td>\n",
       "    </tr>\n",
       "    <tr>\n",
       "      <th>4</th>\n",
       "      <td>0</td>\n",
       "      <td>0</td>\n",
       "      <td>0</td>\n",
       "      <td>0</td>\n",
       "      <td>0</td>\n",
       "      <td>0</td>\n",
       "      <td>0</td>\n",
       "      <td>0</td>\n",
       "      <td>0</td>\n",
       "      <td>0</td>\n",
       "      <td>...</td>\n",
       "      <td>0</td>\n",
       "      <td>0</td>\n",
       "      <td>0</td>\n",
       "      <td>0</td>\n",
       "      <td>0</td>\n",
       "      <td>0</td>\n",
       "      <td>0</td>\n",
       "      <td>0</td>\n",
       "      <td>0</td>\n",
       "      <td>0</td>\n",
       "    </tr>\n",
       "  </tbody>\n",
       "</table>\n",
       "<p>5 rows × 838 columns</p>\n",
       "</div>"
      ],
      "text/plain": [
       "      100 yen shop  47 Ronin  7-Eleven  ATM  Accessories  Accommodation  \\\n",
       "0  0             0         0         0    0            0              0   \n",
       "1  0             0         0         0    0            0              0   \n",
       "2  0             0         0         0    0            0              0   \n",
       "3  0             0         0         0    0            0              0   \n",
       "4  0             0         0         0    0            0              0   \n",
       "\n",
       "   Africa  Afternoon Tea  Airbnb  ...  Yabusame  Yakitori  Yamanashi  \\\n",
       "0       0              0       0  ...         0         0          0   \n",
       "1       0              0       0  ...         0         0          0   \n",
       "2       0              0       0  ...         0         0          0   \n",
       "3       0              0       0  ...         0         0          0   \n",
       "4       0              0       0  ...         0         0          0   \n",
       "\n",
       "   Yamanote  Yatai  Yen  Yokocho  Yosakoi  Yukata  Zoo  \n",
       "0         0      0    0        0        0       0    0  \n",
       "1         0      0    0        0        0       0    0  \n",
       "2         0      0    0        0        0       0    0  \n",
       "3         0      0    0        0        0       0    0  \n",
       "4         0      0    0        0        0       0    0  \n",
       "\n",
       "[5 rows x 838 columns]"
      ]
     },
     "execution_count": 21,
     "metadata": {},
     "output_type": "execute_result"
    }
   ],
   "source": [
    "# turn tags into a matrix-like representation\n",
    "df_tags = pd.get_dummies(df['list_tags'].apply(pd.Series).stack()).groupby(level=0).sum()\n",
    "df_tags.head()"
   ]
  },
  {
   "cell_type": "code",
   "execution_count": 22,
   "id": "30e103ca",
   "metadata": {},
   "outputs": [
    {
     "data": {
      "text/html": [
       "<div>\n",
       "<style scoped>\n",
       "    .dataframe tbody tr th:only-of-type {\n",
       "        vertical-align: middle;\n",
       "    }\n",
       "\n",
       "    .dataframe tbody tr th {\n",
       "        vertical-align: top;\n",
       "    }\n",
       "\n",
       "    .dataframe thead th {\n",
       "        text-align: right;\n",
       "    }\n",
       "</style>\n",
       "<table border=\"1\" class=\"dataframe\">\n",
       "  <thead>\n",
       "    <tr style=\"text-align: right;\">\n",
       "      <th></th>\n",
       "      <th>categories</th>\n",
       "      <th>nb_articles</th>\n",
       "    </tr>\n",
       "  </thead>\n",
       "  <tbody>\n",
       "    <tr>\n",
       "      <th>0</th>\n",
       "      <td>Things to do</td>\n",
       "      <td>607</td>\n",
       "    </tr>\n",
       "    <tr>\n",
       "      <th>1</th>\n",
       "      <td>Events</td>\n",
       "      <td>403</td>\n",
       "    </tr>\n",
       "    <tr>\n",
       "      <th>2</th>\n",
       "      <td>Living</td>\n",
       "      <td>179</td>\n",
       "    </tr>\n",
       "    <tr>\n",
       "      <th>3</th>\n",
       "      <td>Eating &amp; Drinking</td>\n",
       "      <td>176</td>\n",
       "    </tr>\n",
       "    <tr>\n",
       "      <th>4</th>\n",
       "      <td>Shopping</td>\n",
       "      <td>120</td>\n",
       "    </tr>\n",
       "  </tbody>\n",
       "</table>\n",
       "</div>"
      ],
      "text/plain": [
       "          categories  nb_articles\n",
       "0       Things to do          607\n",
       "1             Events          403\n",
       "2             Living          179\n",
       "3  Eating & Drinking          176\n",
       "4           Shopping          120"
      ]
     },
     "execution_count": 22,
     "metadata": {},
     "output_type": "execute_result"
    }
   ],
   "source": [
    "# number of articles per category\n",
    "articles_per_categories = df_categories.astype(bool).sum(axis=0).sort_values(ascending=False).reset_index()\n",
    "articles_per_categories.columns = ['categories', 'nb_articles']\n",
    "articles_per_categories.head()"
   ]
  },
  {
   "cell_type": "code",
   "execution_count": 23,
   "id": "ab4e2265",
   "metadata": {},
   "outputs": [
    {
     "data": {
      "text/html": [
       "<div>\n",
       "<style scoped>\n",
       "    .dataframe tbody tr th:only-of-type {\n",
       "        vertical-align: middle;\n",
       "    }\n",
       "\n",
       "    .dataframe tbody tr th {\n",
       "        vertical-align: top;\n",
       "    }\n",
       "\n",
       "    .dataframe thead th {\n",
       "        text-align: right;\n",
       "    }\n",
       "</style>\n",
       "<table border=\"1\" class=\"dataframe\">\n",
       "  <thead>\n",
       "    <tr style=\"text-align: right;\">\n",
       "      <th></th>\n",
       "      <th>tags</th>\n",
       "      <th>nb_articles</th>\n",
       "    </tr>\n",
       "  </thead>\n",
       "  <tbody>\n",
       "    <tr>\n",
       "      <th>0</th>\n",
       "      <td>Featured</td>\n",
       "      <td>530</td>\n",
       "    </tr>\n",
       "    <tr>\n",
       "      <th>1</th>\n",
       "      <td>Art</td>\n",
       "      <td>152</td>\n",
       "    </tr>\n",
       "    <tr>\n",
       "      <th>2</th>\n",
       "      <td>Tourists</td>\n",
       "      <td>148</td>\n",
       "    </tr>\n",
       "    <tr>\n",
       "      <th>3</th>\n",
       "      <td>Festivals</td>\n",
       "      <td>125</td>\n",
       "    </tr>\n",
       "    <tr>\n",
       "      <th>4</th>\n",
       "      <td></td>\n",
       "      <td>123</td>\n",
       "    </tr>\n",
       "  </tbody>\n",
       "</table>\n",
       "</div>"
      ],
      "text/plain": [
       "        tags  nb_articles\n",
       "0   Featured          530\n",
       "1        Art          152\n",
       "2   Tourists          148\n",
       "3  Festivals          125\n",
       "4                     123"
      ]
     },
     "execution_count": 23,
     "metadata": {},
     "output_type": "execute_result"
    }
   ],
   "source": [
    "# number of articles per tag\n",
    "articles_per_tags = df_tags.astype(bool).sum(axis=0).sort_values(ascending=False).reset_index()\n",
    "articles_per_tags.columns = ['tags', 'nb_articles']\n",
    "articles_per_tags.head()"
   ]
  },
  {
   "cell_type": "code",
   "execution_count": 24,
   "id": "1c377963",
   "metadata": {},
   "outputs": [
    {
     "data": {
      "image/png": "[encoded data removed]",
      "text/plain": [
       "<Figure size 1500x400 with 1 Axes>"
      ]
     },
     "metadata": {},
     "output_type": "display_data"
    }
   ],
   "source": [
    "# barplot - nb articles per category\n",
    "plt.figure(figsize=(15, 4))\n",
    "sns.barplot(x = 'categories', y = 'nb_articles', data = articles_per_categories)\n",
    "plt.xticks(rotation=90, fontsize=8);"
   ]
  },
  {
   "cell_type": "code",
   "execution_count": 25,
   "id": "51a53725",
   "metadata": {},
   "outputs": [
    {
     "data": {
      "image/png": "[encoded data removed]",
      "text/plain": [
       "<Figure size 1500x400 with 1 Axes>"
      ]
     },
     "metadata": {},
     "output_type": "display_data"
    }
   ],
   "source": [
    "# barplot - nb articles per tag\n",
    "# as there are more than 800 different tags, limit to the 40 most frequents\n",
    "plt.figure(figsize=(15, 4))\n",
    "sns.barplot(x = 'tags', y = 'nb_articles', data = articles_per_tags.head(40))\n",
    "plt.xticks(rotation=90, fontsize=8);"
   ]
  },
  {
   "cell_type": "code",
   "execution_count": 26,
   "id": "72075fc5",
   "metadata": {},
   "outputs": [
    {
     "data": {
      "image/png": "[encoded data removed]",
      "text/plain": [
       "<Figure size 1500x400 with 1 Axes>"
      ]
     },
     "metadata": {},
     "output_type": "display_data"
    }
   ],
   "source": [
    "# same barplot, without `Featured` tag\n",
    "plt.figure(figsize=(15, 4))\n",
    "sns.barplot(x = 'tags', y = 'nb_articles', data = articles_per_tags[articles_per_tags.tags != 'Featured'].head(40))\n",
    "plt.xticks(rotation=90, fontsize=8);"
   ]
  },
  {
   "cell_type": "markdown",
   "id": "5dca4213",
   "metadata": {},
   "source": [
    "# 3 - Article's publication"
   ]
  },
  {
   "cell_type": "code",
   "execution_count": 266,
   "id": "dafb388b",
   "metadata": {},
   "outputs": [
    {
     "data": {
      "image/png": "[encoded data removed]",
      "text/plain": [
       "<Figure size 1500x400 with 1 Axes>"
      ]
     },
     "metadata": {},
     "output_type": "display_data"
    }
   ],
   "source": [
    "# compute the number of articles published per month\n",
    "df.index = pd.to_datetime(df['date'])\n",
    "monthly_published_articles_nb = df.groupby(pd.Grouper(freq='M')).count()['url'].reset_index()\n",
    "monthly_published_articles_nb['date'] = monthly_published_articles_nb['date'].dt.to_period('M')\n",
    "monthly_published_articles_nb.columns = ['month', 'nb_articles']\n",
    "\n",
    "# compute the number of monts per year (a year can be not completed)\n",
    "nb_month_per_year = list(monthly_published_articles_nb['month'].apply(lambda x: x.year).value_counts().sort_index())\n",
    "\n",
    "# set a palette with one color per year\n",
    "colors = ['g', 'y','b', 'm']\n",
    "pal = []\n",
    "c = 0\n",
    "for n in nb_month_per_year:\n",
    "    pal.append(n * [colors[c]])\n",
    "    c = 0 if c == len(colors) - 1 else c + 1\n",
    "pal = sum(pal, [])\n",
    "\n",
    "# barplot the of the number of articles published per month\n",
    "nb_years = monthly_published_articles_nb['month'].apply(lambda x: x.year).nunique() # nb of years covered by the dataset\n",
    "#pal =  # palette set for one color per year\n",
    "\n",
    "plt.figure(figsize=(15, 4))\n",
    "sns.barplot(x = 'month', y = 'nb_articles', data = monthly_published_articles_nb, palette=pal);\n",
    "plt.xticks(rotation=90, fontsize=8);"
   ]
  },
  {
   "cell_type": "markdown",
   "id": "5c98e70e",
   "metadata": {},
   "source": [
    "- This bar plot shows a yearly growth trend of publication articles from 2012 to 2017.\n",
    "- After 2017, the trend seems quite irregular: less articles in 2018, quite more in 2019, fairly less in 2020 and the trend for 2022 seems to be more articles."
   ]
  },
  {
   "cell_type": "code",
   "execution_count": 267,
   "id": "2736d25c",
   "metadata": {},
   "outputs": [
    {
     "name": "stdout",
     "output_type": "stream",
     "text": [
      "Average number of articles published by month: 12\n"
     ]
    }
   ],
   "source": [
    "# average number of articles published by month\n",
    "average_per_month = monthly_published_articles_nb.nb_articles.mean()\n",
    "print(f\"Average number of articles published by month: {round(average_per_month)}\")"
   ]
  },
  {
   "cell_type": "code",
   "execution_count": 228,
   "id": "e4b96fd4",
   "metadata": {},
   "outputs": [
    {
     "data": {
      "text/html": [
       "<div>\n",
       "<style scoped>\n",
       "    .dataframe tbody tr th:only-of-type {\n",
       "        vertical-align: middle;\n",
       "    }\n",
       "\n",
       "    .dataframe tbody tr th {\n",
       "        vertical-align: top;\n",
       "    }\n",
       "\n",
       "    .dataframe thead th {\n",
       "        text-align: right;\n",
       "    }\n",
       "</style>\n",
       "<table border=\"1\" class=\"dataframe\">\n",
       "  <thead>\n",
       "    <tr style=\"text-align: right;\">\n",
       "      <th></th>\n",
       "      <th>year</th>\n",
       "      <th>nb_articles</th>\n",
       "    </tr>\n",
       "  </thead>\n",
       "  <tbody>\n",
       "    <tr>\n",
       "      <th>0</th>\n",
       "      <td>2012</td>\n",
       "      <td>111</td>\n",
       "    </tr>\n",
       "    <tr>\n",
       "      <th>1</th>\n",
       "      <td>2013</td>\n",
       "      <td>115</td>\n",
       "    </tr>\n",
       "    <tr>\n",
       "      <th>2</th>\n",
       "      <td>2014</td>\n",
       "      <td>115</td>\n",
       "    </tr>\n",
       "    <tr>\n",
       "      <th>3</th>\n",
       "      <td>2015</td>\n",
       "      <td>162</td>\n",
       "    </tr>\n",
       "    <tr>\n",
       "      <th>4</th>\n",
       "      <td>2016</td>\n",
       "      <td>165</td>\n",
       "    </tr>\n",
       "    <tr>\n",
       "      <th>5</th>\n",
       "      <td>2017</td>\n",
       "      <td>199</td>\n",
       "    </tr>\n",
       "    <tr>\n",
       "      <th>6</th>\n",
       "      <td>2018</td>\n",
       "      <td>123</td>\n",
       "    </tr>\n",
       "    <tr>\n",
       "      <th>7</th>\n",
       "      <td>2019</td>\n",
       "      <td>190</td>\n",
       "    </tr>\n",
       "    <tr>\n",
       "      <th>8</th>\n",
       "      <td>2020</td>\n",
       "      <td>133</td>\n",
       "    </tr>\n",
       "    <tr>\n",
       "      <th>9</th>\n",
       "      <td>2021</td>\n",
       "      <td>94</td>\n",
       "    </tr>\n",
       "    <tr>\n",
       "      <th>10</th>\n",
       "      <td>2022</td>\n",
       "      <td>113</td>\n",
       "    </tr>\n",
       "  </tbody>\n",
       "</table>\n",
       "</div>"
      ],
      "text/plain": [
       "    year  nb_articles\n",
       "0   2012          111\n",
       "1   2013          115\n",
       "2   2014          115\n",
       "3   2015          162\n",
       "4   2016          165\n",
       "5   2017          199\n",
       "6   2018          123\n",
       "7   2019          190\n",
       "8   2020          133\n",
       "9   2021           94\n",
       "10  2022          113"
      ]
     },
     "execution_count": 228,
     "metadata": {},
     "output_type": "execute_result"
    }
   ],
   "source": [
    "# number of published articles per year\n",
    "yearly_published_articles_nb = df.groupby(pd.Grouper(freq='Y')).count()['url'].reset_index()\n",
    "yearly_published_articles_nb['date'] = yearly_published_articles_nb['date'].dt.to_period('Y')\n",
    "yearly_published_articles_nb.columns = ['year', 'nb_articles']\n",
    "yearly_published_articles_nb"
   ]
  },
  {
   "cell_type": "code",
   "execution_count": 230,
   "id": "9cf04c47",
   "metadata": {},
   "outputs": [
    {
     "data": {
      "image/png": "[encoded data removed]",
      "text/plain": [
       "<Figure size 1500x400 with 1 Axes>"
      ]
     },
     "metadata": {},
     "output_type": "display_data"
    }
   ],
   "source": [
    "# plot the number of published articles per year\n",
    "plt.figure(figsize=(15, 4))\n",
    "sns.barplot(x = 'year', y = 'nb_articles', data = yearly_published_articles_nb);\n",
    "plt.xticks(rotation=90, fontsize=8);"
   ]
  },
  {
   "cell_type": "markdown",
   "id": "4ef56e3d",
   "metadata": {},
   "source": [
    "- This barplot above confirm the growth trend from 2012 to 2017 and the irregular trend after.\n",
    "- There is significant deop in 2018.\n",
    "- The drop in 2020 and 2021 can be explained by the Covid-19 outbreak.\n",
    "- 2022 is already better than 2021"
   ]
  },
  {
   "cell_type": "code",
   "execution_count": 221,
   "id": "0e6e0050",
   "metadata": {},
   "outputs": [],
   "source": [
    "# to be continued\n",
    "\n",
    "# to to: average articles for each month\n",
    "# to do: check articles/main authors/year and /month"
   ]
  }
 ],
 "metadata": {
  "kernelspec": {
   "display_name": "Python 3 (ipykernel)",
   "language": "python",
   "name": "python3"
  },
  "language_info": {
   "codemirror_mode": {
    "name": "ipython",
    "version": 3
   },
   "file_extension": ".py",
   "mimetype": "text/x-python",
   "name": "python",
   "nbconvert_exporter": "python",
   "pygments_lexer": "ipython3",
   "version": "3.8.12"
  },
  "toc": {
   "base_numbering": 1,
   "nav_menu": {},
   "number_sections": true,
   "sideBar": true,
   "skip_h1_title": false,
   "title_cell": "Table of Contents",
   "title_sidebar": "Contents",
   "toc_cell": false,
   "toc_position": {},
   "toc_section_display": true,
   "toc_window_display": false
  }
 },
 "nbformat": 4,
 "nbformat_minor": 5
}
